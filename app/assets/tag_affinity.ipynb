{
  "cells": [
    {
      "cell_type": "markdown",
      "metadata": {},
      "source": [
        "# Recommendation System for Restaurants"
      ]
    },
    {
      "cell_type": "markdown",
      "metadata": {},
      "source": [
        "## Documentation\n",
        "In this notebook, we developed a semantic tag affinity map using restaurant data from the Yelp dataset. The core idea is to leverage a large, diverse dataset to learn how certain categories (tags) of restaurants tend to appear together, and thus infer similarity between them.\n",
        "\n",
        "This affinity map is later used to enhance the recommendation engine by expanding the set of user preferences or restaurant tags with semantically similar alternatives.\n",
        "\n",
        "### Objective\n",
        "\n",
        "The goal is to generate a dictionary where each restaurant category (e.g., `\"vegetarian\"`) maps to a list of the most semantically similar categories based on co-occurrence patterns across the Yelp dataset.\n",
        "\n",
        "Example output:\n",
        "\n",
        "```json\n",
        "{\n",
        "  \"vegetarian\": [\"vegan\", \"salad\", \"juice bars\", \"organic\", \"healthy\"],\n",
        "  ...\n",
        "}\n",
        "```\n",
        "\n",
        "### Methodology\n",
        "\n",
        "#### Step 1: Data Preprocessing\n",
        "\n",
        "We extracted the `categories` field from the Yelp business data, which contains tags like \"Mexican\", \"Fast Food\", \"Vegetarian\", etc. Each restaurant may have multiple comma-separated categories.\n",
        "\n",
        "These strings were cleaned (lowercased and stripped of punctuation) to prepare for vectorization.\n",
        "\n",
        "#### Step 2: TF-IDF Vectorization\n",
        "\n",
        "We applied **TF-IDF (Term Frequency – Inverse Document Frequency)** vectorization on the cleaned categories. TF-IDF is a classic method in natural language processing that weighs terms by how frequently they appear in a document (here, a restaurant's tag list) versus how common they are across the entire corpus.\n",
        "\n",
        "TF-IDF was chosen for several reasons:\n",
        "\n",
        "- **Simplicity and interpretability**: It is easy to understand and debug.\n",
        "- **Efficiency**: Lightweight and fast to compute, especially on structured short texts like tags.\n",
        "- **Noise resistance**: TF-IDF reduces the impact of overly common tags (like \"Fast Food\") while emphasizing distinctive ones (like \"Vegan\", \"Ethiopian\").\n",
        "\n",
        "Each category ends up represented as a high-dimensional sparse vector.\n",
        "\n",
        "#### Step 3: Cosine Similarity\n",
        "\n",
        "We then computed the **cosine similarity** between all tag vectors. Cosine similarity measures the angle between two vectors, which makes it ideal for comparing TF-IDF vectors regardless of their magnitude.\n",
        "\n",
        "It tells us: *\"how similar are the contexts in which two tags appear?\"*\n",
        "\n",
        "Tags that frequently appear together across many restaurants (e.g., \"vegetarian\" and \"vegan\") will have a high cosine similarity.\n",
        "\n",
        "#### Step 4: Top-k Similar Tags\n",
        "\n",
        "For each tag, we selected the top-k most similar tags (k = 5) based on cosine similarity scores. This creates the final tag affinity map, saved as a JSON file.\n",
        "\n",
        "### Justification of the Chosen Methods\n",
        "\n",
        "TF-IDF combined with cosine similarity is a well-established approach for tasks involving structured, categorical text like restaurant tags. Here's why it was particularly well-suited for this use case:\n",
        "\n",
        "- **No training required**: Unlike neural embeddings, there's no need to pre-train a model.\n",
        "- **Generalizable**: Works across different datasets and domains without retraining.\n",
        "- **Explainable recommendations**: You can clearly trace why tags are considered similar, which is crucial in user-facing systems.\n",
        "- **Efficient at scale**: Handles thousands of tags and restaurants with low computational cost.\n",
        "\n",
        "While more complex methods like Word2Vec or BERT could be used, they introduce significant overhead and reduce explainability. Given the structured nature of the tags and the clear co-occurrence relationships, TF-IDF and cosine similarity provide an ideal balance of performance and interpretability.\n",
        "\n",
        "### Output\n",
        "\n",
        "The resulting JSON dictionary (`tag_affinity.json`) is used in the recommendation engine to enrich user preference profiles or restaurant metadata with semantically similar tags, making the system more intelligent and flexible.\n"
      ]
    },
    {
      "cell_type": "markdown",
      "metadata": {},
      "source": [
        "## Implementation"
      ]
    },
    {
      "cell_type": "markdown",
      "metadata": {},
      "source": [
        "### Import Libraries"
      ]
    },
    {
      "cell_type": "code",
      "execution_count": null,
      "metadata": {},
      "outputs": [],
      "source": [
        "from sklearn.feature_extraction.text import TfidfVectorizer\n",
        "from sklearn.metrics.pairwise import cosine_similarity\n",
        "from pandas_gbq import read_gbq\n",
        "import json"
      ]
    },
    {
      "cell_type": "markdown",
      "metadata": {},
      "source": [
        "### Load restaurant dataset from BigQuery"
      ]
    },
    {
      "cell_type": "code",
      "execution_count": null,
      "metadata": {},
      "outputs": [],
      "source": [
        "project_id = \"campusbites-72033\"\n",
        "query = \"\"\"\n",
        "SELECT\n",
        "  categories\n",
        "FROM\n",
        "  `campusbites-72033.recommendation_system.business_yelp`\n",
        "WHERE\n",
        "  categories IS NOT NULL\n",
        "\"\"\"\n",
        "df = read_gbq(query, project_id=project_id)"
      ]
    },
    {
      "cell_type": "markdown",
      "metadata": {},
      "source": [
        "### Vectorize the categories"
      ]
    },
    {
      "cell_type": "code",
      "execution_count": null,
      "metadata": {},
      "outputs": [],
      "source": [
        "# clean up the categories\n",
        "df['categories'] = df['categories'].str.lower().str.replace(',', ' ')\n",
        "\n",
        "# vectorize the categories with TF-IDF\n",
        "vectorizer = TfidfVectorizer(token_pattern=r\"(?u)\\b[\\w\\-]+\\b\")\n",
        "tfidf_matrix = vectorizer.fit_transform(df['categories'])"
      ]
    },
    {
      "cell_type": "markdown",
      "metadata": {},
      "source": [
        "### Calculate the Cosine similarity"
      ]
    },
    {
      "cell_type": "code",
      "execution_count": null,
      "metadata": {},
      "outputs": [],
      "source": [
        "# calculate cosine similarity\n",
        "terms = vectorizer.get_feature_names_out()\n",
        "similarity_matrix = cosine_similarity(tfidf_matrix.T)\n",
        "\n",
        "# affinity matrix\n",
        "tag_affinity = {}\n",
        "top_k = 5\n",
        "for i, tag in enumerate(terms):\n",
        "    sim_scores = similarity_matrix[i]\n",
        "    top_indices = sim_scores.argsort()[::-1][1:top_k+1]\n",
        "    related_tags = [terms[j] for j in top_indices]\n",
        "    tag_affinity[tag] = related_tags"
      ]
    },
    {
      "cell_type": "markdown",
      "metadata": {},
      "source": [
        "### Save the affinity map to a JSON file"
      ]
    },
    {
      "cell_type": "code",
      "execution_count": null,
      "metadata": {
        "colab": {
          "base_uri": "https://localhost:8080/"
        },
        "id": "x54sXQ7ds5MC",
        "outputId": "2be2be5c-7d8a-4dd0-fd35-2c493891a33a"
      },
      "outputs": [],
      "source": [
        "with open(\"tag_affinity.json\", \"w\") as f:\n",
        "    json.dump(tag_affinity, f, indent=2)\n",
        "\n",
        "# sample output\n",
        "print(\"Sample of affinity for tag 'vegetarian'\")\n",
        "print(tag_affinity.get(\"vegetarian\", []))\n"
      ]
    }
  ],
  "metadata": {
    "colab": {
      "provenance": []
    },
    "kernelspec": {
      "display_name": ".venv",
      "language": "python",
      "name": "python3"
    },
    "language_info": {
      "codemirror_mode": {
        "name": "ipython",
        "version": 3
      },
      "file_extension": ".py",
      "mimetype": "text/x-python",
      "name": "python",
      "nbconvert_exporter": "python",
      "pygments_lexer": "ipython3",
      "version": "3.11.11"
    }
  },
  "nbformat": 4,
  "nbformat_minor": 0
}
